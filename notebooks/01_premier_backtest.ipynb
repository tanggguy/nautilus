{
 "cells": [
  {
   "cell_type": "markdown",
   "metadata": {},
   "source": [
    "# 🚀 Premier Backtest avec NautilusTrader\n",
    "\n",
    "Ce notebook vous guide pas à pas pour créer votre premier backtest avec NautilusTrader.\n",
    "\n",
    "## Objectifs :\n",
    "1. ✅ Télécharger des données historiques (Yahoo Finance)\n",
    "2. ✅ Les convertir au format NautilusTrader\n",
    "3. ✅ Créer une stratégie MACD simple\n",
    "4. ✅ Lancer un backtest\n",
    "5. ✅ Analyser les résultats\n",
    "\n",
    "---"
   ]
  },
  {
   "cell_type": "markdown",
   "metadata": {},
   "source": [
    "## 📦 1. Imports et Configuration"
   ]
  },
  {
   "cell_type": "code",
   "execution_count": 1,
   "metadata": {},
   "outputs": [
    {
     "name": "stdout",
     "output_type": "stream",
     "text": [
      "✅ Imports réussis !\n"
     ]
    }
   ],
   "source": [
    "import warnings\n",
    "warnings.filterwarnings('ignore')\n",
    "\n",
    "from decimal import Decimal\n",
    "from pathlib import Path\n",
    "import pandas as pd\n",
    "import yfinance as yf\n",
    "\n",
    "# NautilusTrader imports\n",
    "from nautilus_trader.backtest.node import BacktestNode, BacktestRunConfig, BacktestVenueConfig, BacktestDataConfig, BacktestEngineConfig\n",
    "from nautilus_trader.config import ImportableStrategyConfig, LoggingConfig\n",
    "from nautilus_trader.core.datetime import dt_to_unix_nanos\n",
    "from nautilus_trader.model.data import Bar, BarType\n",
    "from nautilus_trader.model.identifiers import InstrumentId, Symbol, Venue\n",
    "from nautilus_trader.model.instruments import Equity\n",
    "from nautilus_trader.model.objects import Price, Quantity, Money\n",
    "from nautilus_trader.persistence.catalog import ParquetDataCatalog\n",
    "from nautilus_trader.persistence.wranglers import BarDataWrangler\n",
    "from nautilus_trader.test_kit.providers import TestInstrumentProvider\n",
    "\n",
    "print(\"✅ Imports réussis !\")"
   ]
  },
  {
   "cell_type": "markdown",
   "metadata": {},
   "source": [
    "## 📊 2. Téléchargement des Données\n",
    "\n",
    "On va télécharger 2 ans de données journalières pour Apple (AAPL)"
   ]
  },
  {
   "cell_type": "code",
   "execution_count": 2,
   "metadata": {},
   "outputs": [
    {
     "name": "stdout",
     "output_type": "stream",
     "text": [
      "📥 Téléchargement des données AAPL de 2022-01-01 à 2024-01-01...\n",
      "✅ 501 barres téléchargées\n",
      "\n",
      "Aperçu des données:\n"
     ]
    },
    {
     "data": {
      "text/html": [
       "<div>\n",
       "<style scoped>\n",
       "    .dataframe tbody tr th:only-of-type {\n",
       "        vertical-align: middle;\n",
       "    }\n",
       "\n",
       "    .dataframe tbody tr th {\n",
       "        vertical-align: top;\n",
       "    }\n",
       "\n",
       "    .dataframe thead tr th {\n",
       "        text-align: left;\n",
       "    }\n",
       "\n",
       "    .dataframe thead tr:last-of-type th {\n",
       "        text-align: right;\n",
       "    }\n",
       "</style>\n",
       "<table border=\"1\" class=\"dataframe\">\n",
       "  <thead>\n",
       "    <tr>\n",
       "      <th>Price</th>\n",
       "      <th>Close</th>\n",
       "      <th>High</th>\n",
       "      <th>Low</th>\n",
       "      <th>Open</th>\n",
       "      <th>Volume</th>\n",
       "    </tr>\n",
       "    <tr>\n",
       "      <th>Ticker</th>\n",
       "      <th>AAPL</th>\n",
       "      <th>AAPL</th>\n",
       "      <th>AAPL</th>\n",
       "      <th>AAPL</th>\n",
       "      <th>AAPL</th>\n",
       "    </tr>\n",
       "    <tr>\n",
       "      <th>Date</th>\n",
       "      <th></th>\n",
       "      <th></th>\n",
       "      <th></th>\n",
       "      <th></th>\n",
       "      <th></th>\n",
       "    </tr>\n",
       "  </thead>\n",
       "  <tbody>\n",
       "    <tr>\n",
       "      <th>2022-01-03</th>\n",
       "      <td>178.443115</td>\n",
       "      <td>179.296076</td>\n",
       "      <td>174.227395</td>\n",
       "      <td>174.345039</td>\n",
       "      <td>104487900</td>\n",
       "    </tr>\n",
       "    <tr>\n",
       "      <th>2022-01-04</th>\n",
       "      <td>176.178406</td>\n",
       "      <td>179.354917</td>\n",
       "      <td>175.609770</td>\n",
       "      <td>179.050994</td>\n",
       "      <td>99310400</td>\n",
       "    </tr>\n",
       "    <tr>\n",
       "      <th>2022-01-05</th>\n",
       "      <td>171.492065</td>\n",
       "      <td>176.639180</td>\n",
       "      <td>171.217554</td>\n",
       "      <td>176.090157</td>\n",
       "      <td>94537600</td>\n",
       "    </tr>\n",
       "    <tr>\n",
       "      <th>2022-01-06</th>\n",
       "      <td>168.629303</td>\n",
       "      <td>171.864636</td>\n",
       "      <td>168.276357</td>\n",
       "      <td>169.315582</td>\n",
       "      <td>96904000</td>\n",
       "    </tr>\n",
       "    <tr>\n",
       "      <th>2022-01-07</th>\n",
       "      <td>168.795929</td>\n",
       "      <td>170.727323</td>\n",
       "      <td>167.678270</td>\n",
       "      <td>169.501820</td>\n",
       "      <td>86709100</td>\n",
       "    </tr>\n",
       "  </tbody>\n",
       "</table>\n",
       "</div>"
      ],
      "text/plain": [
       "Price            Close        High         Low        Open     Volume\n",
       "Ticker            AAPL        AAPL        AAPL        AAPL       AAPL\n",
       "Date                                                                 \n",
       "2022-01-03  178.443115  179.296076  174.227395  174.345039  104487900\n",
       "2022-01-04  176.178406  179.354917  175.609770  179.050994   99310400\n",
       "2022-01-05  171.492065  176.639180  171.217554  176.090157   94537600\n",
       "2022-01-06  168.629303  171.864636  168.276357  169.315582   96904000\n",
       "2022-01-07  168.795929  170.727323  167.678270  169.501820   86709100"
      ]
     },
     "execution_count": 2,
     "metadata": {},
     "output_type": "execute_result"
    }
   ],
   "source": [
    "# Paramètres\n",
    "SYMBOL = \"AAPL\"\n",
    "START_DATE = \"2022-01-01\"\n",
    "END_DATE = \"2024-01-01\"\n",
    "\n",
    "# Téléchargement\n",
    "print(f\"📥 Téléchargement des données {SYMBOL} de {START_DATE} à {END_DATE}...\")\n",
    "df = yf.download(SYMBOL, start=START_DATE, end=END_DATE, progress=False)\n",
    "\n",
    "print(f\"✅ {len(df)} barres téléchargées\")\n",
    "print(f\"\\nAperçu des données:\")\n",
    "df.head()"
   ]
  },
  {
   "cell_type": "markdown",
   "metadata": {},
   "source": [
    "## 🔄 3. Conversion au Format NautilusTrader\n",
    "\n",
    "NautilusTrader utilise un catalogue Parquet pour stocker les données de manière optimisée."
   ]
  },
  {
   "cell_type": "code",
   "execution_count": 3,
   "metadata": {},
   "outputs": [
    {
     "name": "stdout",
     "output_type": "stream",
     "text": [
      "📁 Catalogue créé dans: ..\\data\\catalog\n"
     ]
    }
   ],
   "source": [
    "# Créer le dossier catalog s'il n'existe pas\n",
    "CATALOG_PATH = Path(\"../data/catalog\")\n",
    "CATALOG_PATH.mkdir(parents=True, exist_ok=True)\n",
    "\n",
    "# Initialiser le catalogue\n",
    "catalog = ParquetDataCatalog(str(CATALOG_PATH))\n",
    "print(f\"📁 Catalogue créé dans: {CATALOG_PATH}\")"
   ]
  },
  {
   "cell_type": "code",
   "execution_count": 7,
   "metadata": {
    "scrolled": true
   },
   "outputs": [
    {
     "name": "stdout",
     "output_type": "stream",
     "text": [
      "🎯 Instrument créé: AAPL.NASDAQ\n"
     ]
    }
   ],
   "source": [
    "# Créer l'instrument\n",
    "instrument_id = InstrumentId(symbol=Symbol(SYMBOL), venue=Venue(\"NASDAQ\"))\n",
    "\n",
    "# Créer un instrument Equity simple\n",
    "from nautilus_trader.model.currencies import USD  # Import ajouté\n",
    "\n",
    "instrument = Equity(\n",
    "    instrument_id=instrument_id,\n",
    "    raw_symbol=Symbol(SYMBOL),\n",
    "    currency=USD,                           # ✅ Objet USD\n",
    "    price_precision=2,\n",
    "    price_increment=Price.from_str(\"0.01\"),\n",
    "    lot_size=Quantity.from_int(1),          # ✅ Seul ce paramètre est nécessaire\n",
    "    ts_event=0,\n",
    "    ts_init=0,\n",
    ")\n",
    "\n",
    "print(f\"🎯 Instrument créé: {instrument_id}\")"
   ]
  },
  {
   "cell_type": "code",
   "execution_count": 8,
   "metadata": {},
   "outputs": [
    {
     "name": "stdout",
     "output_type": "stream",
     "text": [
      "📊 Type de barre: AAPL.NASDAQ-1-DAY-LAST-EXTERNAL\n"
     ]
    },
    {
     "ename": "AttributeError",
     "evalue": "'tuple' object has no attribute 'lower'",
     "output_type": "error",
     "traceback": [
      "\u001b[31m---------------------------------------------------------------------------\u001b[39m",
      "\u001b[31mAttributeError\u001b[39m                            Traceback (most recent call last)",
      "\u001b[36mCell\u001b[39m\u001b[36m \u001b[39m\u001b[32mIn[8]\u001b[39m\u001b[32m, line 10\u001b[39m\n\u001b[32m      8\u001b[39m \u001b[38;5;66;03m# Préparer le DataFrame au format attendu\u001b[39;00m\n\u001b[32m      9\u001b[39m df_processed = df.copy()\n\u001b[32m---> \u001b[39m\u001b[32m10\u001b[39m df_processed.columns = [\u001b[43mcol\u001b[49m\u001b[43m.\u001b[49m\u001b[43mlower\u001b[49m() \u001b[38;5;28;01mfor\u001b[39;00m col \u001b[38;5;129;01min\u001b[39;00m df_processed.columns]\n\u001b[32m     12\u001b[39m \u001b[38;5;66;03m# Convertir en barres Nautilus\u001b[39;00m\n\u001b[32m     13\u001b[39m bars = wrangler.process(df_processed)\n",
      "\u001b[31mAttributeError\u001b[39m: 'tuple' object has no attribute 'lower'"
     ]
    }
   ],
   "source": [
    "# Définir le type de barre\n",
    "bar_type = BarType.from_str(f\"{instrument_id}-1-DAY-LAST-EXTERNAL\")\n",
    "print(f\"📊 Type de barre: {bar_type}\")\n",
    "\n",
    "# Convertir les données avec BarDataWrangler\n",
    "wrangler = BarDataWrangler(bar_type=bar_type, instrument=instrument)\n",
    "\n",
    "# Préparer le DataFrame au format attendu\n",
    "df_processed = df.copy()\n",
    "df_processed.columns = [col.lower() for col in df_processed.columns]\n",
    "\n",
    "# Convertir en barres Nautilus\n",
    "bars = wrangler.process(df_processed)\n",
    "print(f\"✅ {len(bars)} barres converties au format Nautilus\")"
   ]
  },
  {
   "cell_type": "code",
   "execution_count": null,
   "metadata": {},
   "outputs": [],
   "source": [
    "# Écrire dans le catalogue\n",
    "catalog.write_data([instrument])\n",
    "catalog.write_data(bars)\n",
    "\n",
    "print(\"✅ Données écrites dans le catalogue\")\n",
    "print(f\"\\n📋 Instruments dans le catalogue:\")\n",
    "print(catalog.instruments())"
   ]
  },
  {
   "cell_type": "markdown",
   "metadata": {},
   "source": [
    "## 🎯 4. Création de la Stratégie MACD\n",
    "\n",
    "Stratégie simple basée sur le MACD:\n",
    "- **Achat** quand MACD croise au-dessus de la ligne de signal\n",
    "- **Vente** quand MACD croise en-dessous de la ligne de signal"
   ]
  },
  {
   "cell_type": "code",
   "execution_count": 5,
   "metadata": {},
   "outputs": [
    {
     "name": "stdout",
     "output_type": "stream",
     "text": [
      "Writing ../strategies/macd_strategy.py\n"
     ]
    }
   ],
   "source": [
    "%%writefile ../strategies/macd_strategy.py\n",
    "\n",
    "from decimal import Decimal\n",
    "from nautilus_trader.config import StrategyConfig\n",
    "from nautilus_trader.core.data import Data\n",
    "from nautilus_trader.indicators.macd import MovingAverageConvergenceDivergence\n",
    "from nautilus_trader.model.data import Bar\n",
    "from nautilus_trader.model.enums import OrderSide, TimeInForce\n",
    "from nautilus_trader.model.identifiers import InstrumentId\n",
    "from nautilus_trader.model.orders import MarketOrder\n",
    "from nautilus_trader.trading.strategy import Strategy\n",
    "\n",
    "\n",
    "class MACDStrategyConfig(StrategyConfig):\n",
    "    \"\"\"Configuration pour la stratégie MACD\"\"\"\n",
    "    instrument_id: str\n",
    "    bar_type: str\n",
    "    fast_period: int = 12\n",
    "    slow_period: int = 26\n",
    "    signal_period: int = 9\n",
    "    trade_size: Decimal = Decimal(\"100\")\n",
    "\n",
    "\n",
    "class MACDStrategy(Strategy):\n",
    "    \"\"\"\n",
    "    Stratégie MACD simple:\n",
    "    - Achat quand MACD > Signal\n",
    "    - Vente quand MACD < Signal\n",
    "    \"\"\"\n",
    "\n",
    "    def __init__(self, config: MACDStrategyConfig):\n",
    "        super().__init__(config)\n",
    "        \n",
    "        # Configuration\n",
    "        self.instrument_id = InstrumentId.from_str(config.instrument_id)\n",
    "        self.bar_type = config.bar_type\n",
    "        self.trade_size = config.trade_size\n",
    "        \n",
    "        # Indicateur MACD\n",
    "        self.macd = MovingAverageConvergenceDivergence(\n",
    "            fast_period=config.fast_period,\n",
    "            slow_period=config.slow_period,\n",
    "            signal_period=config.signal_period,\n",
    "        )\n",
    "        \n",
    "        # État\n",
    "        self.position_opened = False\n",
    "\n",
    "    def on_start(self):\n",
    "        \"\"\"Actions au démarrage de la stratégie\"\"\"\n",
    "        self.subscribe_bars(self.bar_type)\n",
    "        self.log.info(f\"Stratégie démarrée pour {self.instrument_id}\")\n",
    "\n",
    "    def on_bar(self, bar: Bar):\n",
    "        \"\"\"Appelé à chaque nouvelle barre\"\"\"\n",
    "        # Mettre à jour l'indicateur\n",
    "        self.macd.handle_bar(bar)\n",
    "        \n",
    "        # Attendre que l'indicateur soit initialisé\n",
    "        if not self.macd.initialized:\n",
    "            return\n",
    "        \n",
    "        # Récupérer les valeurs\n",
    "        macd_value = self.macd.value\n",
    "        signal_value = self.macd.signal\n",
    "        \n",
    "        # Logique de trading\n",
    "        if macd_value > signal_value and not self.position_opened:\n",
    "            # Signal d'achat\n",
    "            self.buy()\n",
    "            \n",
    "        elif macd_value < signal_value and self.position_opened:\n",
    "            # Signal de vente\n",
    "            self.sell()\n",
    "\n",
    "    def buy(self):\n",
    "        \"\"\"Ouvrir une position longue\"\"\"\n",
    "        order = self.order_factory.market(\n",
    "            instrument_id=self.instrument_id,\n",
    "            order_side=OrderSide.BUY,\n",
    "            quantity=self.instrument.make_qty(self.trade_size),\n",
    "            time_in_force=TimeInForce.GTC,\n",
    "        )\n",
    "        self.submit_order(order)\n",
    "        self.position_opened = True\n",
    "        self.log.info(f\"📈 ACHAT: MACD={self.macd.value:.4f}, Signal={self.macd.signal:.4f}\")\n",
    "\n",
    "    def sell(self):\n",
    "        \"\"\"Fermer la position\"\"\"\n",
    "        order = self.order_factory.market(\n",
    "            instrument_id=self.instrument_id,\n",
    "            order_side=OrderSide.SELL,\n",
    "            quantity=self.instrument.make_qty(self.trade_size),\n",
    "            time_in_force=TimeInForce.GTC,\n",
    "        )\n",
    "        self.submit_order(order)\n",
    "        self.position_opened = False\n",
    "        self.log.info(f\"📉 VENTE: MACD={self.macd.value:.4f}, Signal={self.macd.signal:.4f}\")\n",
    "\n",
    "    def on_stop(self):\n",
    "        \"\"\"Actions à l'arrêt de la stratégie\"\"\"\n",
    "        # Fermer toutes les positions ouvertes\n",
    "        self.close_all_positions(self.instrument_id)\n",
    "        self.log.info(\"Stratégie arrêtée\")\n"
   ]
  },
  {
   "cell_type": "markdown",
   "metadata": {},
   "source": [
    "## ⚙️ 5. Configuration du Backtest"
   ]
  },
  {
   "cell_type": "code",
   "execution_count": 6,
   "metadata": {},
   "outputs": [
    {
     "ename": "ModuleNotFoundError",
     "evalue": "No module named 'nautilus_trader.indicators.macd'",
     "output_type": "error",
     "traceback": [
      "\u001b[31m---------------------------------------------------------------------------\u001b[39m",
      "\u001b[31mModuleNotFoundError\u001b[39m                       Traceback (most recent call last)",
      "\u001b[36mCell\u001b[39m\u001b[36m \u001b[39m\u001b[32mIn[6]\u001b[39m\u001b[32m, line 4\u001b[39m\n\u001b[32m      2\u001b[39m \u001b[38;5;28;01mimport\u001b[39;00m\u001b[38;5;250m \u001b[39m\u001b[34;01msys\u001b[39;00m\n\u001b[32m      3\u001b[39m sys.path.append(\u001b[33m'\u001b[39m\u001b[33m../strategies\u001b[39m\u001b[33m'\u001b[39m)\n\u001b[32m----> \u001b[39m\u001b[32m4\u001b[39m \u001b[38;5;28;01mfrom\u001b[39;00m\u001b[38;5;250m \u001b[39m\u001b[34;01mmacd_strategy\u001b[39;00m\u001b[38;5;250m \u001b[39m\u001b[38;5;28;01mimport\u001b[39;00m MACDStrategy, MACDStrategyConfig\n\u001b[32m      6\u001b[39m \u001b[38;5;28mprint\u001b[39m(\u001b[33m\"\u001b[39m\u001b[33m✅ Stratégie importée\u001b[39m\u001b[33m\"\u001b[39m)\n",
      "\u001b[36mFile \u001b[39m\u001b[32m~\\Desktop\\nautilus\\notebooks\\../strategies\\macd_strategy.py:5\u001b[39m\n\u001b[32m      3\u001b[39m \u001b[38;5;28;01mfrom\u001b[39;00m\u001b[38;5;250m \u001b[39m\u001b[34;01mnautilus_trader\u001b[39;00m\u001b[34;01m.\u001b[39;00m\u001b[34;01mconfig\u001b[39;00m\u001b[38;5;250m \u001b[39m\u001b[38;5;28;01mimport\u001b[39;00m StrategyConfig\n\u001b[32m      4\u001b[39m \u001b[38;5;28;01mfrom\u001b[39;00m\u001b[38;5;250m \u001b[39m\u001b[34;01mnautilus_trader\u001b[39;00m\u001b[34;01m.\u001b[39;00m\u001b[34;01mcore\u001b[39;00m\u001b[34;01m.\u001b[39;00m\u001b[34;01mdata\u001b[39;00m\u001b[38;5;250m \u001b[39m\u001b[38;5;28;01mimport\u001b[39;00m Data\n\u001b[32m----> \u001b[39m\u001b[32m5\u001b[39m \u001b[38;5;28;01mfrom\u001b[39;00m\u001b[38;5;250m \u001b[39m\u001b[34;01mnautilus_trader\u001b[39;00m\u001b[34;01m.\u001b[39;00m\u001b[34;01mindicators\u001b[39;00m\u001b[34;01m.\u001b[39;00m\u001b[34;01mmacd\u001b[39;00m\u001b[38;5;250m \u001b[39m\u001b[38;5;28;01mimport\u001b[39;00m MovingAverageConvergenceDivergence\n\u001b[32m      6\u001b[39m \u001b[38;5;28;01mfrom\u001b[39;00m\u001b[38;5;250m \u001b[39m\u001b[34;01mnautilus_trader\u001b[39;00m\u001b[34;01m.\u001b[39;00m\u001b[34;01mmodel\u001b[39;00m\u001b[34;01m.\u001b[39;00m\u001b[34;01mdata\u001b[39;00m\u001b[38;5;250m \u001b[39m\u001b[38;5;28;01mimport\u001b[39;00m Bar\n\u001b[32m      7\u001b[39m \u001b[38;5;28;01mfrom\u001b[39;00m\u001b[38;5;250m \u001b[39m\u001b[34;01mnautilus_trader\u001b[39;00m\u001b[34;01m.\u001b[39;00m\u001b[34;01mmodel\u001b[39;00m\u001b[34;01m.\u001b[39;00m\u001b[34;01menums\u001b[39;00m\u001b[38;5;250m \u001b[39m\u001b[38;5;28;01mimport\u001b[39;00m OrderSide, TimeInForce\n",
      "\u001b[31mModuleNotFoundError\u001b[39m: No module named 'nautilus_trader.indicators.macd'"
     ]
    }
   ],
   "source": [
    "# Importer la stratégie\n",
    "import sys\n",
    "sys.path.append('../strategies')\n",
    "from macd_strategy import MACDStrategy, MACDStrategyConfig\n",
    "\n",
    "print(\"✅ Stratégie importée\")"
   ]
  },
  {
   "cell_type": "code",
   "execution_count": null,
   "metadata": {},
   "outputs": [],
   "source": [
    "# Configuration de la venue (exchange simulé)\n",
    "venue_config = BacktestVenueConfig(\n",
    "    name=\"NASDAQ\",\n",
    "    oms_type=\"HEDGING\",\n",
    "    account_type=\"CASH\",  # Compte cash pour actions\n",
    "    base_currency=\"USD\",\n",
    "    starting_balances=[\"100000 USD\"],  # Capital de départ\n",
    ")\n",
    "\n",
    "print(\"✅ Configuration venue créée\")\n",
    "print(f\"  - Venue: {venue_config.name}\")\n",
    "print(f\"  - Capital de départ: 100,000 USD\")"
   ]
  },
  {
   "cell_type": "code",
   "execution_count": null,
   "metadata": {},
   "outputs": [],
   "source": [
    "# Récupérer l'instrument du catalogue\n",
    "instruments = catalog.instruments()\n",
    "instrument = instruments[0]\n",
    "\n",
    "# Dates pour le backtest\n",
    "start = dt_to_unix_nanos(pd.Timestamp(START_DATE, tz='UTC'))\n",
    "end = dt_to_unix_nanos(pd.Timestamp(END_DATE, tz='UTC'))\n",
    "\n",
    "print(f\"📅 Période du backtest:\")\n",
    "print(f\"  - Début: {START_DATE}\")\n",
    "print(f\"  - Fin: {END_DATE}\")"
   ]
  },
  {
   "cell_type": "code",
   "execution_count": null,
   "metadata": {},
   "outputs": [],
   "source": [
    "# Configuration des données\n",
    "data_config = BacktestDataConfig(\n",
    "    catalog_path=str(CATALOG_PATH),\n",
    "    data_cls=Bar,\n",
    "    instrument_id=instrument.id,\n",
    "    start_time=start,\n",
    "    end_time=end,\n",
    ")\n",
    "\n",
    "print(\"✅ Configuration données créée\")"
   ]
  },
  {
   "cell_type": "code",
   "execution_count": null,
   "metadata": {},
   "outputs": [],
   "source": [
    "# Configuration de la stratégie\n",
    "strategy_config = ImportableStrategyConfig(\n",
    "    strategy_path=\"macd_strategy:MACDStrategy\",\n",
    "    config_path=\"macd_strategy:MACDStrategyConfig\",\n",
    "    config={\n",
    "        \"instrument_id\": str(instrument.id),\n",
    "        \"bar_type\": str(bar_type),\n",
    "        \"fast_period\": 12,\n",
    "        \"slow_period\": 26,\n",
    "        \"signal_period\": 9,\n",
    "        \"trade_size\": Decimal(\"10\"),  # 10 actions par trade\n",
    "    },\n",
    ")\n",
    "\n",
    "print(\"✅ Configuration stratégie créée\")\n",
    "print(f\"  - MACD rapide: 12\")\n",
    "print(f\"  - MACD lent: 26\")\n",
    "print(f\"  - Signal: 9\")\n",
    "print(f\"  - Taille de trade: 10 actions\")"
   ]
  },
  {
   "cell_type": "code",
   "execution_count": null,
   "metadata": {},
   "outputs": [],
   "source": [
    "# Configuration complète du backtest\n",
    "config = BacktestRunConfig(\n",
    "    engine=BacktestEngineConfig(\n",
    "        strategies=[strategy_config],\n",
    "        logging=LoggingConfig(log_level=\"ERROR\"),  # ERROR pour éviter trop de logs\n",
    "    ),\n",
    "    data=[data_config],\n",
    "    venues=[venue_config],\n",
    ")\n",
    "\n",
    "print(\"✅ Configuration backtest complète créée\")"
   ]
  },
  {
   "cell_type": "markdown",
   "metadata": {},
   "source": [
    "## 🚀 6. Lancement du Backtest\n",
    "\n",
    "⚠️ **Note**: Le backtest peut prendre quelques secondes à quelques minutes selon la quantité de données."
   ]
  },
  {
   "cell_type": "code",
   "execution_count": null,
   "metadata": {},
   "outputs": [],
   "source": [
    "# Créer et lancer le backtest node\n",
    "print(\"🚀 Lancement du backtest...\\n\")\n",
    "\n",
    "node = BacktestNode(configs=[config])\n",
    "results = node.run()\n",
    "\n",
    "print(\"\\n✅ Backtest terminé !\")"
   ]
  },
  {
   "cell_type": "markdown",
   "metadata": {},
   "source": [
    "## 📊 7. Analyse des Résultats"
   ]
  },
  {
   "cell_type": "code",
   "execution_count": null,
   "metadata": {},
   "outputs": [],
   "source": [
    "# Récupérer le moteur pour l'analyse\n",
    "engine = node.get_engine(config.id)\n",
    "\n",
    "print(\"📈 RÉSUMÉ DU BACKTEST\")\n",
    "print(\"=\" * 60)"
   ]
  },
  {
   "cell_type": "code",
   "execution_count": null,
   "metadata": {},
   "outputs": [],
   "source": [
    "# Rapport des ordres\n",
    "print(\"\\n📋 RAPPORT DES ORDRES:\")\n",
    "print(\"=\" * 60)\n",
    "engine.trader.generate_order_fills_report()"
   ]
  },
  {
   "cell_type": "code",
   "execution_count": null,
   "metadata": {},
   "outputs": [],
   "source": [
    "# Rapport du compte\n",
    "print(\"\\n💰 RAPPORT DU COMPTE:\")\n",
    "print(\"=\" * 60)\n",
    "engine.trader.generate_account_report(Venue(\"NASDAQ\"))"
   ]
  },
  {
   "cell_type": "code",
   "execution_count": null,
   "metadata": {},
   "outputs": [],
   "source": [
    "# Rapport des positions\n",
    "print(\"\\n📊 RAPPORT DES POSITIONS:\")\n",
    "print(\"=\" * 60)\n",
    "engine.trader.generate_positions_report()"
   ]
  },
  {
   "cell_type": "code",
   "execution_count": null,
   "metadata": {},
   "outputs": [],
   "source": [
    "# Statistiques de performance détaillées\n",
    "from nautilus_trader.model.identifiers import Venue\n",
    "\n",
    "# Récupérer le compte\n",
    "account = engine.cache.account_for_venue(Venue(\"NASDAQ\"))\n",
    "\n",
    "if account:\n",
    "    print(\"\\n💵 PERFORMANCE FINALE:\")\n",
    "    print(\"=\" * 60)\n",
    "    print(f\"Capital de départ: 100,000.00 USD\")\n",
    "    print(f\"Capital final: {account.balance_total().as_double():,.2f} USD\")\n",
    "    \n",
    "    pnl = account.balance_total().as_double() - 100000.0\n",
    "    pnl_pct = (pnl / 100000.0) * 100\n",
    "    \n",
    "    print(f\"P&L: {pnl:+,.2f} USD ({pnl_pct:+.2f}%)\")\n",
    "    \n",
    "    if pnl > 0:\n",
    "        print(\"\\n🎉 Stratégie profitable !\")\n",
    "    else:\n",
    "        print(\"\\n⚠️ Stratégie non profitable - ajustez les paramètres\")\n",
    "else:\n",
    "    print(\"❌ Impossible de récupérer les informations du compte\")"
   ]
  },
  {
   "cell_type": "markdown",
   "metadata": {},
   "source": [
    "## 🎯 8. Prochaines Étapes\n",
    "\n",
    "Maintenant que vous avez réussi votre premier backtest, vous pouvez :\n",
    "\n",
    "1. **Optimiser les paramètres** : Testez différentes valeurs de MACD (fast_period, slow_period, signal_period)\n",
    "2. **Ajouter des filtres** : RSI, bandes de Bollinger, volume, etc.\n",
    "3. **Multi-symboles** : Backtester sur plusieurs actions simultanément\n",
    "4. **Améliorer la stratégie** : Stop-loss, take-profit, trailing stop\n",
    "5. **Visualisation** : Créer des graphiques de la performance\n",
    "\n",
    "---\n",
    "\n",
    "### 💡 Conseils :\n",
    "- Commencez simple et ajoutez de la complexité progressivement\n",
    "- Testez toujours sur des données out-of-sample\n",
    "- Documentez vos résultats\n",
    "- N'oubliez pas : les performances passées ne garantissent pas les résultats futurs !"
   ]
  }
 ],
 "metadata": {
  "kernelspec": {
   "display_name": "Python 3 (ipykernel)",
   "language": "python",
   "name": "python3"
  },
  "language_info": {
   "codemirror_mode": {
    "name": "ipython",
    "version": 3
   },
   "file_extension": ".py",
   "mimetype": "text/x-python",
   "name": "python",
   "nbconvert_exporter": "python",
   "pygments_lexer": "ipython3",
   "version": "3.13.7"
  }
 },
 "nbformat": 4,
 "nbformat_minor": 4
}
